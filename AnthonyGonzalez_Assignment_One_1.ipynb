{
  "nbformat": 4,
  "nbformat_minor": 0,
  "metadata": {
    "colab": {
      "name": "AnthonyGonzalez_Assignment_One-1.ipynb",
      "provenance": [],
      "collapsed_sections": [],
      "toc_visible": true,
      "include_colab_link": true
    },
    "kernelspec": {
      "display_name": "Python 3",
      "language": "python",
      "name": "python3"
    },
    "language_info": {
      "codemirror_mode": {
        "name": "ipython",
        "version": 3
      },
      "file_extension": ".py",
      "mimetype": "text/x-python",
      "name": "python",
      "nbconvert_exporter": "python",
      "pygments_lexer": "ipython3",
      "version": "3.7.4"
    }
  },
  "cells": [
    {
      "cell_type": "markdown",
      "metadata": {
        "id": "view-in-github",
        "colab_type": "text"
      },
      "source": [
        "<a href=\"https://colab.research.google.com/github/adgonzalez98/anthony_INFO5731_Spring2021/blob/main/AnthonyGonzalez_Assignment_One_1.ipynb\" target=\"_parent\"><img src=\"https://colab.research.google.com/assets/colab-badge.svg\" alt=\"Open In Colab\"/></a>"
      ]
    },
    {
      "cell_type": "markdown",
      "metadata": {
        "id": "Ryk8D1Q4Wsrp"
      },
      "source": [
        "# **INFO5731 Assignment One**"
      ]
    },
    {
      "cell_type": "markdown",
      "metadata": {
        "id": "90_NR8c5XGWc"
      },
      "source": [
        "# Question 1\n",
        "\n",
        "(20 points). Write a Python program to generate 12 random numbers between 1 and 100. Sort the list of numbers in ascending order and print it out. Sort the list of numbers in descending order and print it out. Calculate the average for the group and print it out."
      ]
    },
    {
      "cell_type": "code",
      "metadata": {
        "colab": {
          "base_uri": "https://localhost:8080/"
        },
        "id": "5QX6bJjGWXY9",
        "outputId": "1c90dda8-591e-49d5-c0f1-a4c8cc5d85df"
      },
      "source": [
        "# Your code here\n",
        "import random #imports random module \n",
        "rlist = [] #creates empty list variable\n",
        "\n",
        "#For loop to grab 12 random numbers between 1 and 100\n",
        "for i in range(12):\n",
        "  x = random.randint(1,100) #assigns random number to variable x\n",
        "  rlist.append(x) #adds random number to rlist\n",
        "\n",
        "rlist.sort() #sort function to sort list in ascending order\n",
        "print(rlist)\n",
        "\n",
        "rlist.reverse() #reverse function to reverse the order of the list in descending order\n",
        "print(rlist)\n",
        "\n",
        "print(sum(rlist)/12) #calculates the average of list\n",
        "\n"
      ],
      "execution_count": null,
      "outputs": [
        {
          "output_type": "stream",
          "text": [
            "[16, 18, 25, 28, 34, 57, 65, 69, 78, 78, 81, 87]\n",
            "[87, 81, 78, 78, 69, 65, 57, 34, 28, 25, 18, 16]\n",
            "53.0\n"
          ],
          "name": "stdout"
        }
      ]
    },
    {
      "cell_type": "markdown",
      "metadata": {
        "id": "1F_PZdH9Sh49"
      },
      "source": [
        "# Question 2\n",
        "(25 points). Write a program that will do the following string formatting tasks:\n",
        "\n",
        "(1) Ask the user to enter two sentences.\n",
        "\n",
        "(2) Make each sentence into a list. Each element in the list should correspond to a word in the sentence. For example, if the sentence is \"Alas! Am I alive? This is my first python program\", the program should print out ['Alas, '!', 'Am', 'I', 'alive, '?', 'This', 'is', 'my', 'first', 'python', 'program'].\n",
        "\n",
        "(3) Compare the two sentences. Print out a list of words that occur in both sentences.\n",
        "\n",
        "(4) Remove any punctuation from the sentence and print it back out. It should remove at least the following characters, but it can remove more: period(“.”), comma (“,”), semicolon (“;”), and colon (“:”)\n",
        "\n",
        "(5) Count the number of vowels in the sentences. Print out each vowel and the number of times it appears in the sentences, such as: a:2, e:1, i:0, etc"
      ]
    },
    {
      "cell_type": "code",
      "metadata": {
        "id": "Y0oOSlsOS0cq",
        "colab": {
          "base_uri": "https://localhost:8080/"
        },
        "outputId": "bdc3dd01-309e-408e-cf83-f9b4e4a87b8c"
      },
      "source": [
        "# Your code here\n",
        "import re #import regex module to use various functions\n",
        "\n",
        "usr_sent1 = input('Enter one sentence>> ')\n",
        "list1 = re.findall(r'\\w+|[^\\w\\s]',usr_sent1) # traverses list to remove punctuations\n",
        "list1a = re.sub('[.?!,]', '', usr_sent1) #Creates nes lest with out punctuations\n",
        "list1b = list1a.split() #converts list to sentence without punctuations\n",
        "\n",
        "#repeates for second sentance\n",
        "usr_sent2 = input('Enter one sentence>> ')\n",
        "list2 = re.findall('\\w+|[^\\w\\s]',usr_sent2)\n",
        "list2a = re.sub('[.?!,]', '', usr_sent2)\n",
        "list2b = list2a.split()\n",
        "\n",
        "print(list1)\n",
        "print(list1a)\n",
        "\n",
        "print(list2)\n",
        "print(list2a)\n",
        "\n",
        "#loops through both lists to compare similar words\n",
        "for i in list1b:\n",
        "  for k in list2b:\n",
        "    if i == k:\n",
        "      print(i)"
      ],
      "execution_count": 71,
      "outputs": [
        {
          "output_type": "stream",
          "text": [
            "Enter one sentence>> The cow jumped over the spoon?\n",
            "Enter one sentence>> The moon jumped over the cow.\n",
            "['The', 'cow', 'jumped', 'over', 'the', 'spoon', '?']\n",
            "The cow jumped over the spoon\n",
            "['The', 'moon', 'jumped', 'over', 'the', 'cow', '.']\n",
            "The moon jumped over the cow\n",
            "The\n",
            "cow\n",
            "jumped\n",
            "over\n",
            "the\n"
          ],
          "name": "stdout"
        }
      ]
    },
    {
      "cell_type": "markdown",
      "metadata": {
        "id": "CmFoI4jDS9nx"
      },
      "source": [
        "# Question 3 \n",
        "\n",
        "(15 points). The formula that describes the volume V of a sphere with radius r is the following:\n",
        "\n",
        "$ V=\\frac{4}{3}\\ast\\ \\pi\\ast\\ r^3 $\n",
        "\n",
        "Write a program to calculate the value of V when r is in the range of 1–10. Output the result in the following format:\n",
        "\n",
        "\tr\tV\n",
        "\t1\t…\n",
        "\t2\t…\n",
        "\t3\t…\n"
      ]
    },
    {
      "cell_type": "code",
      "metadata": {
        "id": "pEyqeioAT95b",
        "colab": {
          "base_uri": "https://localhost:8080/"
        },
        "outputId": "60c0c49b-5d74-4e20-e80e-c418c2a32b64"
      },
      "source": [
        "# Your code here\n",
        "import math #import the math module to use pi\n",
        "\n",
        "print('r\\tV') #prints r and V to identify colums\n",
        "\n",
        "#For loop to run equation from 1-10\n",
        "for i in range(10):\n",
        "  v = (4/3)*(math.pi)*(i+1)**3\n",
        "  print(i+1, '\\t', v)\n",
        "\n"
      ],
      "execution_count": 67,
      "outputs": [
        {
          "output_type": "stream",
          "text": [
            "r\tV\n",
            "1 \t 4.1887902047863905\n",
            "2 \t 33.510321638291124\n",
            "3 \t 113.09733552923254\n",
            "4 \t 268.082573106329\n",
            "5 \t 523.5987755982989\n",
            "6 \t 904.7786842338603\n",
            "7 \t 1436.7550402417319\n",
            "8 \t 2144.660584850632\n",
            "9 \t 3053.6280592892786\n",
            "10 \t 4188.790204786391\n"
          ],
          "name": "stdout"
        }
      ]
    },
    {
      "cell_type": "code",
      "metadata": {
        "id": "pMCr3l8tnu0j"
      },
      "source": [
        ""
      ],
      "execution_count": 62,
      "outputs": []
    },
    {
      "cell_type": "markdown",
      "metadata": {
        "id": "z3tBE7E-Xn5X"
      },
      "source": [
        "# Question 4\n",
        "\n",
        "(40 points). In the field of Data Science, data is often formatted as a comma-delimited (CSV) file, where each line in a file corresponds to a field's value. Refer to Chapter 9 (p. 106) for more information on comma-delimited files. To answer this question, you will need to download the file [Assignment1_denton_housing.csv](https://github.com/unt-iialab/info5731_spring2021/blob/main/assignment/Assignment1_denton_housing.csv) included with this assignment. The file [Assignment1_denton_housing.csv](https://github.com/unt-iialab/info5731_spring2021/blob/main/assignment/Assignment1_denton_housing.csv) contains statistics about housing in the city of Denton from 2008 to 2014. Write a program to implement the following questions.\n",
        "\n",
        "(1) (10 pts) Calculate the difference in the number of Occupied Housing Units from year to year and print it. The difference must be calculated for the consecutive years such as 2008-2009, 2009-2010 etc. Finally, print the values in the ascending order.\n",
        "\n",
        "(2) (10 pts) For all the years, calculate the percentage of housing units which are vacant an occupied. Print the results in the following format:\n",
        "\n",
        "Year Vacant Housing Units Occupied Housing Units\n",
        "\n",
        "    2008  30%   70%                          \n",
        "\t2009 ----- -----\n",
        "\t2010 ----- -----\n",
        "    2011 ----- -----\n",
        "\t2012 ----- -----\n",
        "    2013 ----- -----\n",
        "\t2014 ----- -----\n",
        "  \n",
        "  \n",
        "\n",
        "(3) (10 pts) Calculate and print the valued and years in which the highest number of housing units were vacant and occupied. Print the results in the following format:  \n",
        "\n",
        "                              Year\tValue\n",
        "\tVacant Housing Units\t  -----   -----\n",
        "\tOccupied Housing Units\t-----   -----\n",
        "\n",
        "(4) (10 pts) Calculate the harmonic mean of the total housing units and print it out. You can find the information about harmonic mean here: https://ncalculators.com/statistics/harmonic-mean-calculator.htm"
      ]
    },
    {
      "cell_type": "code",
      "metadata": {
        "id": "lqGYuHBhcsRH"
      },
      "source": [
        "# Your code here\n",
        "\n",
        "\n"
      ],
      "execution_count": null,
      "outputs": []
    }
  ]
}