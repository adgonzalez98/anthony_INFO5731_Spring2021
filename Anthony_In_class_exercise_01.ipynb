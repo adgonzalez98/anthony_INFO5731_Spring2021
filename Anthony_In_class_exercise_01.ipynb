{
  "nbformat": 4,
  "nbformat_minor": 0,
  "metadata": {
    "colab": {
      "name": "In_class_exercise_01.ipynb",
      "provenance": [],
      "collapsed_sections": [],
      "include_colab_link": true
    },
    "kernelspec": {
      "display_name": "Python 3",
      "language": "python",
      "name": "python3"
    },
    "language_info": {
      "codemirror_mode": {
        "name": "ipython",
        "version": 3
      },
      "file_extension": ".py",
      "mimetype": "text/x-python",
      "name": "python",
      "nbconvert_exporter": "python",
      "pygments_lexer": "ipython3",
      "version": "3.7.4"
    }
  },
  "cells": [
    {
      "cell_type": "markdown",
      "metadata": {
        "id": "view-in-github",
        "colab_type": "text"
      },
      "source": [
        "<a href=\"https://colab.research.google.com/github/adgonzalez98/anthony_INFO5731_Spring2021/blob/main/Anthony_In_class_exercise_01.ipynb\" target=\"_parent\"><img src=\"https://colab.research.google.com/assets/colab-badge.svg\" alt=\"Open In Colab\"/></a>"
      ]
    },
    {
      "cell_type": "markdown",
      "metadata": {
        "id": "DymRJbxDBCnf"
      },
      "source": [
        "# **The first In-class-exercise (9/2/2020, 20 points in total)**"
      ]
    },
    {
      "cell_type": "markdown",
      "metadata": {
        "id": "03jb4GZsBkBS"
      },
      "source": [
        "(1) Write a Python program to calculate the length of a string. (2 points)"
      ]
    },
    {
      "cell_type": "code",
      "metadata": {
        "colab": {
          "base_uri": "https://localhost:8080/"
        },
        "id": "YaGLbSHHB8Ej",
        "outputId": "2ae145f6-9eda-41ba-c6d2-5aed407347f1"
      },
      "source": [
        "# write your answer here\n",
        "usr_str = input(\"Enter string: \") #Accepts user input\n",
        "print(\"You typed:\",usr_str) #prints user input\n",
        "print(\"String length =\", len(usr_str)) #prints string length. Length includes spaces. "
      ],
      "execution_count": 13,
      "outputs": [
        {
          "output_type": "stream",
          "text": [
            "Enter string:No no no\n",
            "You typed: No no no\n",
            "String length = 8\n"
          ],
          "name": "stdout"
        }
      ]
    },
    {
      "cell_type": "markdown",
      "metadata": {
        "id": "jJDe71iLB616"
      },
      "source": [
        "(2) Write a Python program to count the number of characters in a string. (2 points)\n",
        "\n",
        "Sample String : 'google.com‘, \n",
        "\n",
        "Expected Result : {'o': 3, 'g': 2, '.': 1, 'e': 1, 'l': 1, 'm': 1, 'c': 1}"
      ]
    },
    {
      "cell_type": "code",
      "metadata": {
        "colab": {
          "base_uri": "https://localhost:8080/"
        },
        "id": "MtKskTzbCLaU",
        "outputId": "8c82e21a-05e2-47ff-c7ca-e0bed6c730ef"
      },
      "source": [
        "# write your answer here\n",
        "gstr = 'google.com' #Set up str for google.com\n",
        "\n",
        "def cntr(s): #Defines function to count characters\n",
        "  g = dict() #Creates dictionary \n",
        "\n",
        "  for x in s: #for loop to add and count characters in string\n",
        "    if x not in g:\n",
        "      g[x] = 1\n",
        "    else:\n",
        "      g[x] += 1\n",
        "\n",
        "  return g #returns dictionary \n",
        "\n",
        "print('String:', gstr)\n",
        "print('Character count:', cntr(gstr)) #Prints count per character\n",
        "\n"
      ],
      "execution_count": 31,
      "outputs": [
        {
          "output_type": "stream",
          "text": [
            "String: google.com\n",
            "Character count: {'g': 2, 'o': 3, 'l': 1, 'e': 1, '.': 1, 'c': 1, 'm': 1}\n"
          ],
          "name": "stdout"
        }
      ]
    },
    {
      "cell_type": "markdown",
      "metadata": {
        "id": "55W9AMdXCSpV"
      },
      "source": [
        "(3) Write a Python program to sum all the items in a list. (2 points)"
      ]
    },
    {
      "cell_type": "code",
      "metadata": {
        "colab": {
          "base_uri": "https://localhost:8080/"
        },
        "id": "I57NXsauCec2",
        "outputId": "75173c93-e86d-4a3d-c181-de2b2ab3702a"
      },
      "source": [
        "# write your answer here\n",
        "lnum = [1, 2, 3, 'cat', 5.09] #Creats list variable\n",
        "total = 0 #Counter veriable\n",
        "\n",
        "for x in lnum: #For loop to count the total elements in the list\n",
        "  total += 1\n",
        "\n",
        "print('List:', lnum) #Prints list\n",
        "print('Total elements in list:', total) #Prints count of elements in list\n"
      ],
      "execution_count": 41,
      "outputs": [
        {
          "output_type": "stream",
          "text": [
            "List: [1, 2, 3, 'cat', 5.09]\n",
            "Total elements in list: 5\n"
          ],
          "name": "stdout"
        }
      ]
    },
    {
      "cell_type": "markdown",
      "metadata": {
        "id": "4ulBZ6yhCi9F"
      },
      "source": [
        "(4) Write a Python program to get a string from a given string where all occurrences of its first char have been changed to '\\$', except the first char itself. (2 points)\n",
        "\n",
        "Sample String : 'restart‘, \n",
        "\n",
        "Expected Result : 'resta\\$t'"
      ]
    },
    {
      "cell_type": "code",
      "metadata": {
        "colab": {
          "base_uri": "https://localhost:8080/"
        },
        "id": "Fj0XhwbBCw2o",
        "outputId": "fc83f0df-8f7d-4271-9c71-806bab89204f"
      },
      "source": [
        "# write your answer here\n",
        "s = input('Enter string:') #Takes string from user\n",
        "\n",
        "char = s[0] #Preserves first letter of string\n",
        "s = s.replace(s[0], '$') #Changes the first character and all similar characters to new character\n",
        "s = char + s[1:] #Inputs preseved first character and add to string start from second element\n",
        "\n",
        "print(s) #prints new word\n",
        "\n",
        "\n",
        "\n"
      ],
      "execution_count": 90,
      "outputs": [
        {
          "output_type": "stream",
          "text": [
            "Enter string:google\n",
            "goo$le\n"
          ],
          "name": "stdout"
        }
      ]
    },
    {
      "cell_type": "markdown",
      "metadata": {
        "id": "_bIP7s1MCzue"
      },
      "source": [
        "(5) Write a program with python which could accept two parameter a and b to calculate and output the result of S, where \n",
        "\n",
        "$\\ S=3.14*(1+a/b)^3$ (3 points)\n",
        "\n"
      ]
    },
    {
      "cell_type": "code",
      "metadata": {
        "colab": {
          "base_uri": "https://localhost:8080/"
        },
        "id": "w79QilHXD3Mg",
        "outputId": "d7d05471-ca87-4470-b32d-51a2f9eaa3ca"
      },
      "source": [
        "# write your answer here\n",
        "#Accepts input from user\n",
        "a = input('Enter integer:')\n",
        "b = input('Enter integer other than zero:')\n",
        "#Casts input to integer\n",
        "a = int(a)\n",
        "b = int(b)\n",
        "\n",
        "s = 3.14*(1+a/b)**3\n",
        "\n",
        "print(s)\n"
      ],
      "execution_count": 65,
      "outputs": [
        {
          "output_type": "stream",
          "text": [
            "Enter integer:4\n",
            "Enter integer other than zero:5\n",
            "18.312480000000004\n"
          ],
          "name": "stdout"
        }
      ]
    },
    {
      "cell_type": "markdown",
      "metadata": {
        "id": "xCa2bK9aD4Q3"
      },
      "source": [
        "(6) Write a Python program to concatenate following dictionaries to create a new one. (3 points)\n",
        "\n",
        "Sample Dictionary : dic1={1:10, 2:20}, dic2={3:30, 4:40}, dic3={5:50,6:60}, \n",
        "\n",
        "Expected Result : {1: 10, 2: 20, 3: 30, 4: 40, 5: 50, 6: 60}\n"
      ]
    },
    {
      "cell_type": "code",
      "metadata": {
        "colab": {
          "base_uri": "https://localhost:8080/"
        },
        "id": "_z4aLqAbEET1",
        "outputId": "b4d22733-ecb3-4430-d840-a1d6e177c9fe"
      },
      "source": [
        "# write your answer here\n",
        "#Set up dictionaries\n",
        "dic1={1:10, 2:20}\n",
        "dic2={3:30, 4:40} \n",
        "dic3={5:50,6:60}\n",
        "\n",
        "dic2.update(dic3) #Adds dic3 to dic2\n",
        "dic1.update(dic2) #Adds updated dic2 to dic 1\n",
        "print(dic1)"
      ],
      "execution_count": 70,
      "outputs": [
        {
          "output_type": "stream",
          "text": [
            "{1: 10, 2: 20, 3: 30, 4: 40, 5: 50, 6: 60}\n"
          ],
          "name": "stdout"
        }
      ]
    },
    {
      "cell_type": "markdown",
      "metadata": {
        "id": "0v48Vqa7FrQh"
      },
      "source": [
        "(7) Write a Python program to check whether an element exists within a tuple. (3 points)"
      ]
    },
    {
      "cell_type": "code",
      "metadata": {
        "colab": {
          "base_uri": "https://localhost:8080/"
        },
        "id": "7WEmgq-DF2P1",
        "outputId": "0e354594-d6df-49cb-e378-751a26f4f09d"
      },
      "source": [
        "# write your answer here\n",
        "tup = ('a','3', 'g', 'pony','5') #Set tuple\n",
        "\n",
        "n = input('Search for tuple:') #Accepts user input\n",
        "\n",
        "#Prints if element is in tuple\n",
        "if n in tup:\n",
        "  print(n, 'in tuple')\n",
        "else:\n",
        "  print(n, 'not in tuple')\n",
        "\n"
      ],
      "execution_count": 78,
      "outputs": [
        {
          "output_type": "stream",
          "text": [
            "Search for tuple:pony\n",
            "pony in tuple\n"
          ],
          "name": "stdout"
        }
      ]
    },
    {
      "cell_type": "markdown",
      "metadata": {
        "id": "vD5PYLMuGga_"
      },
      "source": [
        "(8) Write a Python program to find maximum and the minimum value in a set. (3 points)"
      ]
    },
    {
      "cell_type": "code",
      "metadata": {
        "colab": {
          "base_uri": "https://localhost:8080/"
        },
        "id": "t0D5kdJUGjjw",
        "outputId": "efdd6618-96e0-466f-dce7-30a318ac2b57"
      },
      "source": [
        "# write your answer here\n",
        "t = [12,50,16,2,10] #set up list\n",
        "\n",
        "#Define function that returns tuple with max and min\n",
        "def m_m(a):\n",
        "  return max(a),min(a)\n",
        "\n",
        "print(m_m(t)) #Prints tuple (max,min)\n"
      ],
      "execution_count": 83,
      "outputs": [
        {
          "output_type": "stream",
          "text": [
            "(50, 2)\n"
          ],
          "name": "stdout"
        }
      ]
    },
    {
      "cell_type": "markdown",
      "metadata": {
        "id": "uHkd-y5VhVWC"
      },
      "source": [
        "(9) Write a Python program to randomly divide the students in this class into five groups for term projects, each group should have at least 3 students but no more than 5 students (including 5). Here is the students list: (3 points for extra)\n",
        "\n",
        "studnet_list = ['vmb0067','pc0353','snd0097','yye0005','sg0940','bk0301','rak0120','rrk0058','spk0057','vl0135','nm0547','pn0159',\n",
        "                'msp0174','dd0420','ds0761','rs0850','ss1995','at0739','at0768','mv0299','tv0119','dy0091']"
      ]
    },
    {
      "cell_type": "code",
      "metadata": {
        "id": "3iGbmcOBhTwy"
      },
      "source": [
        "# write your answer here\n"
      ],
      "execution_count": null,
      "outputs": []
    }
  ]
}